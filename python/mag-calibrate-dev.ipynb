{
 "cells": [
  {
   "cell_type": "code",
   "execution_count": 1,
   "metadata": {},
   "outputs": [],
   "source": [
    "import serial\n",
    "from tqdm.notebook import tqdm, trange\n",
    "import pandas as pd\n",
    "import numpy as np\n",
    "import torch as pt"
   ]
  },
  {
   "cell_type": "code",
   "execution_count": 2,
   "metadata": {},
   "outputs": [],
   "source": [
    "def coef_to_list(coefs):\n",
    "    coef_idx = []\n",
    "    coef_val = []\n",
    "    for idx, val in coefs.items():\n",
    "        coef_idx.append(idx)\n",
    "        coef_val.append(val)\n",
    "    return (coef_idx, coef_val)\n",
    "\n",
    "def grad_calc(loss, coefs):\n",
    "    coef_idx, coef_val = coef_to_list(coefs)\n",
    "    grad_val = pt.autograd.grad(loss, coef_val)\n",
    "    gradient = {idx:val for idx, val in zip(coef_idx, grad_val)}\n",
    "    return gradient"
   ]
  },
  {
   "cell_type": "code",
   "execution_count": 3,
   "metadata": {},
   "outputs": [
    {
     "data": {
      "application/vnd.jupyter.widget-view+json": {
       "model_id": "379455ffd86e49948a79d0627cc86cbb",
       "version_major": 2,
       "version_minor": 0
      },
      "text/plain": [
       "HBox(children=(FloatProgress(value=0.0, max=1200.0), HTML(value='')))"
      ]
     },
     "metadata": {},
     "output_type": "display_data"
    },
    {
     "name": "stdout",
     "output_type": "stream",
     "text": [
      "\n"
     ]
    }
   ],
   "source": [
    "with serial.Serial('/dev/ttyUSB0', 115200) as ser:\n",
    "    serial_lines = [ser.readline() for _ in trange(1200)]\n",
    "serial_lines = pd.DataFrame([ser.decode(\"utf-8\").strip().split(',') for ser in serial_lines], columns=['mag_x', 'mag_y', 'mag_z']).astype(float)\n",
    "earth_mag = np.array([[17848.0, 4593.9, 50836.6]]).T / 1000"
   ]
  },
  {
   "cell_type": "code",
   "execution_count": 44,
   "metadata": {},
   "outputs": [],
   "source": [
    "serial_mag_t = pt.from_numpy(serial_lines.values).type(pt.Tensor)\n",
    "data_scale = pt.sqrt((serial_mag_t**2).sum(dim=1))\n",
    "earth_mag_t = pt.from_numpy(earth_mag).type(pt.Tensor)"
   ]
  },
  {
   "cell_type": "code",
   "execution_count": 45,
   "metadata": {},
   "outputs": [],
   "source": [
    "coefs = {\n",
    "    'bias': pt.zeros(3),\n",
    "    'skew': pt.eye(3),\n",
    "}"
   ]
  },
  {
   "cell_type": "code",
   "execution_count": 48,
   "metadata": {},
   "outputs": [],
   "source": [
    "alpha = 0.8\n",
    "beta = 0.9\n",
    "grad = {}\n",
    "grad_sq = {}\n",
    "clamp = 1e-16\n",
    "learn_rate = 1e-3"
   ]
  },
  {
   "cell_type": "code",
   "execution_count": 49,
   "metadata": {},
   "outputs": [
    {
     "data": {
      "application/vnd.jupyter.widget-view+json": {
       "model_id": "0b3197c83c0541a9ba52f2b582c1599a",
       "version_major": 2,
       "version_minor": 0
      },
      "text/plain": [
       "HBox(children=(FloatProgress(value=0.0, max=1000.0), HTML(value='')))"
      ]
     },
     "metadata": {},
     "output_type": "display_data"
    },
    {
     "name": "stdout",
     "output_type": "stream",
     "text": [
      "\n"
     ]
    }
   ],
   "source": [
    "loss_rcd = []\n",
    "t = trange(1000)\n",
    "for i in t:\n",
    "    for val in coefs.values(): val.requires_grad = True\n",
    "\n",
    "    earth_adj = (coefs['skew'] @ earth_mag_t) + coefs['bias']\n",
    "    earth_scale = pt.sqrt((earth_adj**2).sum())\n",
    "    error = data_scale - earth_scale\n",
    "    loss = pt.sqrt((error**2).mean())\n",
    "    \n",
    "    loss_rcd.append(loss.detach().cpu().numpy())\n",
    "    t.set_postfix({'loss': loss_rcd[-1]})\n",
    "\n",
    "    gradient = grad_calc(loss, coefs)\n",
    "    with pt.no_grad():\n",
    "        for idx in gradient.keys():\n",
    "            grad[idx] = (alpha * gradient[idx]) + ((1-alpha) * grad.get(idx, gradient[idx]))\n",
    "            grad_sq[idx] = (beta * (gradient[idx]**2)) + ((1-beta) * grad_sq.get(idx, gradient[idx]**2))\n",
    "            step = grad[idx] / pt.clamp(pt.sqrt(grad_sq[idx]), clamp, np.inf)\n",
    "            coefs[idx] = coefs[idx] - (step * learn_rate)"
   ]
  },
  {
   "cell_type": "code",
   "execution_count": 57,
   "metadata": {},
   "outputs": [],
   "source": [
    "results = (coefs['skew'] @ serial_mag_t.t()).t() + coefs['bias']"
   ]
  },
  {
   "cell_type": "code",
   "execution_count": 61,
   "metadata": {},
   "outputs": [
    {
     "data": {
      "text/plain": [
       "0   -53.908890\n",
       "1   -58.291321\n",
       "2   -41.097675\n",
       "dtype: float32"
      ]
     },
     "execution_count": 61,
     "metadata": {},
     "output_type": "execute_result"
    }
   ],
   "source": [
    "pd.DataFrame(results.numpy()).min()"
   ]
  }
 ],
 "metadata": {
  "kernelspec": {
   "display_name": "Python 3",
   "language": "python",
   "name": "python3"
  },
  "language_info": {
   "codemirror_mode": {
    "name": "ipython",
    "version": 3
   },
   "file_extension": ".py",
   "mimetype": "text/x-python",
   "name": "python",
   "nbconvert_exporter": "python",
   "pygments_lexer": "ipython3",
   "version": "3.7.4"
  }
 },
 "nbformat": 4,
 "nbformat_minor": 4
}
