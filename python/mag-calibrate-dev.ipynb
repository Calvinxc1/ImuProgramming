{
 "cells": [
  {
   "cell_type": "code",
   "execution_count": 1,
   "metadata": {},
   "outputs": [],
   "source": [
    "from tqdm.notebook import tqdm, trange\n",
    "import pandas as pd\n",
    "import numpy as np\n",
    "import torch as pt\n",
    "import matplotlib.pyplot as plt\n",
    "import seaborn as sns\n",
    "import pyqtgraph as pg\n",
    "import pyqtgraph.opengl as gl\n",
    "\n",
    "from calibrators import Calibrator\n",
    "from calibrators.models import Complex\n",
    "from calibrators.models.gradients.learn import SqDec"
   ]
  },
  {
   "cell_type": "code",
   "execution_count": 2,
   "metadata": {},
   "outputs": [],
   "source": [
    "data = {\n",
    "    'good': pd.read_csv('./data_archive/good_readings.csv'),\n",
    "    'okay': pd.read_csv('./data_archive/okay_readings.csv'),\n",
    "    'bad': pd.read_csv('./data_archive/bad_readings.csv'),\n",
    "    'ref': pd.Series([17.8480, 4.5939, 50.8366], index=['mag_x','mag_y','mag_z'])\n",
    "}"
   ]
  },
  {
   "cell_type": "code",
   "execution_count": 9,
   "metadata": {},
   "outputs": [
    {
     "data": {
      "application/vnd.jupyter.widget-view+json": {
       "model_id": "bef1811967d54de3a8188d9cddccfded",
       "version_major": 2,
       "version_minor": 0
      },
      "text/plain": [
       "HBox(children=(FloatProgress(value=0.0, max=100000.0), HTML(value='')))"
      ]
     },
     "metadata": {},
     "output_type": "display_data"
    },
    {
     "name": "stdout",
     "output_type": "stream",
     "text": [
      "\n"
     ]
    },
    {
     "data": {
      "application/vnd.jupyter.widget-view+json": {
       "model_id": "6285f71bbd354ac9bf83ca65313d87f5",
       "version_major": 2,
       "version_minor": 0
      },
      "text/plain": [
       "HBox(children=(FloatProgress(value=0.0, max=100000.0), HTML(value='')))"
      ]
     },
     "metadata": {},
     "output_type": "display_data"
    },
    {
     "name": "stdout",
     "output_type": "stream",
     "text": [
      "\n"
     ]
    },
    {
     "data": {
      "application/vnd.jupyter.widget-view+json": {
       "model_id": "8f50b3c8a41d4cb784c6a57c507473fd",
       "version_major": 2,
       "version_minor": 0
      },
      "text/plain": [
       "HBox(children=(FloatProgress(value=0.0, max=100000.0), HTML(value='')))"
      ]
     },
     "metadata": {},
     "output_type": "display_data"
    },
    {
     "name": "stdout",
     "output_type": "stream",
     "text": [
      "\n"
     ]
    }
   ],
   "source": [
    "data_adj = {}\n",
    "coefs = {}\n",
    "calibs = {}\n",
    "for key, val in data.items():\n",
    "    if key == 'ref': continue\n",
    "    calibs[key] = Calibrator(\n",
    "        val.values, data['ref'],\n",
    "        Model=Complex, model_params={'gradient_params':{'Learn':SqDec}},\n",
    "        verbose=True\n",
    "    )\n",
    "    data_adj[key] = calibs[key].calibrate(100000)\n",
    "    coefs[key] = calibs[key].coefs"
   ]
  },
  {
   "cell_type": "code",
   "execution_count": 10,
   "metadata": {},
   "outputs": [
    {
     "data": {
      "text/html": [
       "<div>\n",
       "<style scoped>\n",
       "    .dataframe tbody tr th:only-of-type {\n",
       "        vertical-align: middle;\n",
       "    }\n",
       "\n",
       "    .dataframe tbody tr th {\n",
       "        vertical-align: top;\n",
       "    }\n",
       "\n",
       "    .dataframe thead th {\n",
       "        text-align: right;\n",
       "    }\n",
       "</style>\n",
       "<table border=\"1\" class=\"dataframe\">\n",
       "  <thead>\n",
       "    <tr style=\"text-align: right;\">\n",
       "      <th></th>\n",
       "      <th>bias</th>\n",
       "      <th>skew_x</th>\n",
       "      <th>skew_y</th>\n",
       "      <th>skew_z</th>\n",
       "    </tr>\n",
       "  </thead>\n",
       "  <tbody>\n",
       "    <tr>\n",
       "      <th>x</th>\n",
       "      <td>24.306417</td>\n",
       "      <td>-0.348529</td>\n",
       "      <td>-1.179266</td>\n",
       "      <td>-0.197840</td>\n",
       "    </tr>\n",
       "    <tr>\n",
       "      <th>y</th>\n",
       "      <td>7.321260</td>\n",
       "      <td>-0.903732</td>\n",
       "      <td>0.421054</td>\n",
       "      <td>-0.541377</td>\n",
       "    </tr>\n",
       "    <tr>\n",
       "      <th>z</th>\n",
       "      <td>18.775190</td>\n",
       "      <td>-0.771904</td>\n",
       "      <td>0.076954</td>\n",
       "      <td>1.008962</td>\n",
       "    </tr>\n",
       "  </tbody>\n",
       "</table>\n",
       "</div>"
      ],
      "text/plain": [
       "        bias    skew_x    skew_y    skew_z\n",
       "x  24.306417 -0.348529 -1.179266 -0.197840\n",
       "y   7.321260 -0.903732  0.421054 -0.541377\n",
       "z  18.775190 -0.771904  0.076954  1.008962"
      ]
     },
     "execution_count": 10,
     "metadata": {},
     "output_type": "execute_result"
    }
   ],
   "source": [
    "coefs['good']"
   ]
  },
  {
   "cell_type": "code",
   "execution_count": 11,
   "metadata": {},
   "outputs": [
    {
     "data": {
      "text/html": [
       "<div>\n",
       "<style scoped>\n",
       "    .dataframe tbody tr th:only-of-type {\n",
       "        vertical-align: middle;\n",
       "    }\n",
       "\n",
       "    .dataframe tbody tr th {\n",
       "        vertical-align: top;\n",
       "    }\n",
       "\n",
       "    .dataframe thead th {\n",
       "        text-align: right;\n",
       "    }\n",
       "</style>\n",
       "<table border=\"1\" class=\"dataframe\">\n",
       "  <thead>\n",
       "    <tr style=\"text-align: right;\">\n",
       "      <th></th>\n",
       "      <th>bias</th>\n",
       "      <th>skew_x</th>\n",
       "      <th>skew_y</th>\n",
       "      <th>skew_z</th>\n",
       "    </tr>\n",
       "  </thead>\n",
       "  <tbody>\n",
       "    <tr>\n",
       "      <th>x</th>\n",
       "      <td>26.485626</td>\n",
       "      <td>-0.262437</td>\n",
       "      <td>-1.178982</td>\n",
       "      <td>0.141435</td>\n",
       "    </tr>\n",
       "    <tr>\n",
       "      <th>y</th>\n",
       "      <td>6.164262</td>\n",
       "      <td>-1.024556</td>\n",
       "      <td>0.185350</td>\n",
       "      <td>-0.514477</td>\n",
       "    </tr>\n",
       "    <tr>\n",
       "      <th>z</th>\n",
       "      <td>19.961081</td>\n",
       "      <td>-0.656122</td>\n",
       "      <td>0.299980</td>\n",
       "      <td>1.079361</td>\n",
       "    </tr>\n",
       "  </tbody>\n",
       "</table>\n",
       "</div>"
      ],
      "text/plain": [
       "        bias    skew_x    skew_y    skew_z\n",
       "x  26.485626 -0.262437 -1.178982  0.141435\n",
       "y   6.164262 -1.024556  0.185350 -0.514477\n",
       "z  19.961081 -0.656122  0.299980  1.079361"
      ]
     },
     "execution_count": 11,
     "metadata": {},
     "output_type": "execute_result"
    }
   ],
   "source": [
    "coefs['okay']"
   ]
  },
  {
   "cell_type": "code",
   "execution_count": 12,
   "metadata": {},
   "outputs": [
    {
     "data": {
      "text/html": [
       "<div>\n",
       "<style scoped>\n",
       "    .dataframe tbody tr th:only-of-type {\n",
       "        vertical-align: middle;\n",
       "    }\n",
       "\n",
       "    .dataframe tbody tr th {\n",
       "        vertical-align: top;\n",
       "    }\n",
       "\n",
       "    .dataframe thead th {\n",
       "        text-align: right;\n",
       "    }\n",
       "</style>\n",
       "<table border=\"1\" class=\"dataframe\">\n",
       "  <thead>\n",
       "    <tr style=\"text-align: right;\">\n",
       "      <th></th>\n",
       "      <th>bias</th>\n",
       "      <th>skew_x</th>\n",
       "      <th>skew_y</th>\n",
       "      <th>skew_z</th>\n",
       "    </tr>\n",
       "  </thead>\n",
       "  <tbody>\n",
       "    <tr>\n",
       "      <th>x</th>\n",
       "      <td>27.980804</td>\n",
       "      <td>-0.136953</td>\n",
       "      <td>0.172923</td>\n",
       "      <td>-1.034979</td>\n",
       "    </tr>\n",
       "    <tr>\n",
       "      <th>y</th>\n",
       "      <td>27.487492</td>\n",
       "      <td>0.609533</td>\n",
       "      <td>0.593507</td>\n",
       "      <td>0.155147</td>\n",
       "    </tr>\n",
       "    <tr>\n",
       "      <th>z</th>\n",
       "      <td>37.622875</td>\n",
       "      <td>-0.794270</td>\n",
       "      <td>0.455894</td>\n",
       "      <td>0.186969</td>\n",
       "    </tr>\n",
       "  </tbody>\n",
       "</table>\n",
       "</div>"
      ],
      "text/plain": [
       "        bias    skew_x    skew_y    skew_z\n",
       "x  27.980804 -0.136953  0.172923 -1.034979\n",
       "y  27.487492  0.609533  0.593507  0.155147\n",
       "z  37.622875 -0.794270  0.455894  0.186969"
      ]
     },
     "execution_count": 12,
     "metadata": {},
     "output_type": "execute_result"
    }
   ],
   "source": [
    "coefs['bad']"
   ]
  },
  {
   "cell_type": "code",
   "execution_count": 13,
   "metadata": {},
   "outputs": [
    {
     "name": "stdout",
     "output_type": "stream",
     "text": [
      "good: 53.979183\n",
      "okay: 54.079353\n",
      "bad: 53.98736\n",
      "ref: 54.07416130436051\n"
     ]
    }
   ],
   "source": [
    "print('good:', np.sqrt((data_adj['good']**2).sum(axis=1)).mean())\n",
    "print('okay:', np.sqrt((data_adj['okay']**2).sum(axis=1)).mean())\n",
    "print('bad:', np.sqrt((data_adj['bad']**2).sum(axis=1)).mean())\n",
    "print('ref:', np.sqrt((data['ref']**2).sum()))"
   ]
  },
  {
   "cell_type": "code",
   "execution_count": 14,
   "metadata": {},
   "outputs": [
    {
     "data": {
      "text/plain": [
       "<matplotlib.legend.Legend at 0x7f1bc54fa110>"
      ]
     },
     "execution_count": 14,
     "metadata": {},
     "output_type": "execute_result"
    },
    {
     "data": {
      "image/png": "[encoded data removed]",
      "text/plain": [
       "<Figure size 1152x720 with 1 Axes>"
      ]
     },
     "metadata": {
      "needs_background": "light"
     },
     "output_type": "display_data"
    }
   ],
   "source": [
    "plt.figure(figsize=(16,10))\n",
    "sns.distplot(np.sqrt((data_adj['good']**2).sum(axis=1)), label='good')\n",
    "sns.distplot(np.sqrt((data_adj['okay']**2).sum(axis=1)), label='okay')\n",
    "sns.distplot(np.sqrt((data_adj['bad']**2).sum(axis=1)), label='bad')\n",
    "plt.axvline(np.sqrt((data['ref']**2).sum()), color='#000000', label='ref')\n",
    "plt.legend()"
   ]
  }
 ],
 "metadata": {
  "kernelspec": {
   "display_name": "Python 3",
   "language": "python",
   "name": "python3"
  },
  "language_info": {
   "codemirror_mode": {
    "name": "ipython",
    "version": 3
   },
   "file_extension": ".py",
   "mimetype": "text/x-python",
   "name": "python",
   "nbconvert_exporter": "python",
   "pygments_lexer": "ipython3",
   "version": "3.7.4"
  }
 },
 "nbformat": 4,
 "nbformat_minor": 4
}
