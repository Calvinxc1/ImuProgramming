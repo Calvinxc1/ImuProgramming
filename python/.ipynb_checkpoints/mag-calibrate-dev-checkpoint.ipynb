{
 "cells": [
  {
   "cell_type": "code",
   "execution_count": 1,
   "metadata": {},
   "outputs": [],
   "source": [
    "from tqdm.notebook import tqdm, trange\n",
    "import pandas as pd\n",
    "import numpy as np\n",
    "import torch as pt\n",
    "import matplotlib.pyplot as plt\n",
    "import seaborn as sns\n",
    "import pyqtgraph as pg\n",
    "import pyqtgraph.opengl as gl\n",
    "\n",
    "from calibrators import Calibrator\n",
    "from calibrators.models import Complex\n",
    "from calibrators.models.gradients.learn import SqDec"
   ]
  },
  {
   "cell_type": "code",
   "execution_count": 2,
   "metadata": {},
   "outputs": [],
   "source": [
    "data = {\n",
    "    'good': pd.read_csv('./data_archive/good_readings.csv'),\n",
    "    'okay': pd.read_csv('./data_archive/okay_readings.csv'),\n",
    "    'bad': pd.read_csv('./data_archive/bad_readings.csv'),\n",
    "    'ref': pd.Series([17.8480, 4.5939, 50.8366], index=['mag_x','mag_y','mag_z'])\n",
    "}"
   ]
  },
  {
   "cell_type": "code",
   "execution_count": null,
   "metadata": {},
   "outputs": [
    {
     "data": {
      "application/vnd.jupyter.widget-view+json": {
       "model_id": "bef1811967d54de3a8188d9cddccfded",
       "version_major": 2,
       "version_minor": 0
      },
      "text/plain": [
       "HBox(children=(FloatProgress(value=0.0, max=100000.0), HTML(value='')))"
      ]
     },
     "metadata": {},
     "output_type": "display_data"
    }
   ],
   "source": [
    "data_adj = {}\n",
    "coefs = {}\n",
    "calibs = {}\n",
    "for key, val in data.items():\n",
    "    if key == 'ref': continue\n",
    "    calibs[key] = Calibrator(\n",
    "        val.values, data['ref'],\n",
    "        Model=Complex, model_params={'gradient_params':{'Learn':SqDec}},\n",
    "        verbose=True\n",
    "    )\n",
    "    data_adj[key] = calibs[key].calibrate(100000)\n",
    "    coefs[key] = calibs[key].coefs"
   ]
  },
  {
   "cell_type": "code",
   "execution_count": 4,
   "metadata": {},
   "outputs": [
    {
     "data": {
      "text/html": [
       "<div>\n",
       "<style scoped>\n",
       "    .dataframe tbody tr th:only-of-type {\n",
       "        vertical-align: middle;\n",
       "    }\n",
       "\n",
       "    .dataframe tbody tr th {\n",
       "        vertical-align: top;\n",
       "    }\n",
       "\n",
       "    .dataframe thead th {\n",
       "        text-align: right;\n",
       "    }\n",
       "</style>\n",
       "<table border=\"1\" class=\"dataframe\">\n",
       "  <thead>\n",
       "    <tr style=\"text-align: right;\">\n",
       "      <th></th>\n",
       "      <th>bias</th>\n",
       "      <th>skew_x</th>\n",
       "      <th>skew_y</th>\n",
       "      <th>skew_z</th>\n",
       "    </tr>\n",
       "  </thead>\n",
       "  <tbody>\n",
       "    <tr>\n",
       "      <th>x</th>\n",
       "      <td>24.303066</td>\n",
       "      <td>-0.335091</td>\n",
       "      <td>-1.146094</td>\n",
       "      <td>-0.345572</td>\n",
       "    </tr>\n",
       "    <tr>\n",
       "      <th>y</th>\n",
       "      <td>7.323524</td>\n",
       "      <td>-0.860970</td>\n",
       "      <td>0.482536</td>\n",
       "      <td>-0.552780</td>\n",
       "    </tr>\n",
       "    <tr>\n",
       "      <th>z</th>\n",
       "      <td>18.773045</td>\n",
       "      <td>-0.838796</td>\n",
       "      <td>-0.020744</td>\n",
       "      <td>0.953932</td>\n",
       "    </tr>\n",
       "  </tbody>\n",
       "</table>\n",
       "</div>"
      ],
      "text/plain": [
       "        bias    skew_x    skew_y    skew_z\n",
       "x  24.303066 -0.335091 -1.146094 -0.345572\n",
       "y   7.323524 -0.860970  0.482536 -0.552780\n",
       "z  18.773045 -0.838796 -0.020744  0.953932"
      ]
     },
     "execution_count": 4,
     "metadata": {},
     "output_type": "execute_result"
    }
   ],
   "source": [
    "coefs['good']"
   ]
  },
  {
   "cell_type": "code",
   "execution_count": 5,
   "metadata": {},
   "outputs": [
    {
     "data": {
      "text/html": [
       "<div>\n",
       "<style scoped>\n",
       "    .dataframe tbody tr th:only-of-type {\n",
       "        vertical-align: middle;\n",
       "    }\n",
       "\n",
       "    .dataframe tbody tr th {\n",
       "        vertical-align: top;\n",
       "    }\n",
       "\n",
       "    .dataframe thead th {\n",
       "        text-align: right;\n",
       "    }\n",
       "</style>\n",
       "<table border=\"1\" class=\"dataframe\">\n",
       "  <thead>\n",
       "    <tr style=\"text-align: right;\">\n",
       "      <th></th>\n",
       "      <th>bias</th>\n",
       "      <th>skew_x</th>\n",
       "      <th>skew_y</th>\n",
       "      <th>skew_z</th>\n",
       "    </tr>\n",
       "  </thead>\n",
       "  <tbody>\n",
       "    <tr>\n",
       "      <th>x</th>\n",
       "      <td>26.477854</td>\n",
       "      <td>-0.252630</td>\n",
       "      <td>-1.190190</td>\n",
       "      <td>0.057875</td>\n",
       "    </tr>\n",
       "    <tr>\n",
       "      <th>y</th>\n",
       "      <td>6.167080</td>\n",
       "      <td>-1.000545</td>\n",
       "      <td>0.206746</td>\n",
       "      <td>-0.557967</td>\n",
       "    </tr>\n",
       "    <tr>\n",
       "      <th>z</th>\n",
       "      <td>19.958513</td>\n",
       "      <td>-0.718143</td>\n",
       "      <td>0.222382</td>\n",
       "      <td>1.060624</td>\n",
       "    </tr>\n",
       "  </tbody>\n",
       "</table>\n",
       "</div>"
      ],
      "text/plain": [
       "        bias    skew_x    skew_y    skew_z\n",
       "x  26.477854 -0.252630 -1.190190  0.057875\n",
       "y   6.167080 -1.000545  0.206746 -0.557967\n",
       "z  19.958513 -0.718143  0.222382  1.060624"
      ]
     },
     "execution_count": 5,
     "metadata": {},
     "output_type": "execute_result"
    }
   ],
   "source": [
    "coefs['okay']"
   ]
  },
  {
   "cell_type": "code",
   "execution_count": 6,
   "metadata": {},
   "outputs": [
    {
     "data": {
      "text/html": [
       "<div>\n",
       "<style scoped>\n",
       "    .dataframe tbody tr th:only-of-type {\n",
       "        vertical-align: middle;\n",
       "    }\n",
       "\n",
       "    .dataframe tbody tr th {\n",
       "        vertical-align: top;\n",
       "    }\n",
       "\n",
       "    .dataframe thead th {\n",
       "        text-align: right;\n",
       "    }\n",
       "</style>\n",
       "<table border=\"1\" class=\"dataframe\">\n",
       "  <thead>\n",
       "    <tr style=\"text-align: right;\">\n",
       "      <th></th>\n",
       "      <th>bias</th>\n",
       "      <th>skew_x</th>\n",
       "      <th>skew_y</th>\n",
       "      <th>skew_z</th>\n",
       "    </tr>\n",
       "  </thead>\n",
       "  <tbody>\n",
       "    <tr>\n",
       "      <th>x</th>\n",
       "      <td>19.952745</td>\n",
       "      <td>-0.185630</td>\n",
       "      <td>0.286261</td>\n",
       "      <td>-1.302934</td>\n",
       "    </tr>\n",
       "    <tr>\n",
       "      <th>y</th>\n",
       "      <td>8.583890</td>\n",
       "      <td>0.629384</td>\n",
       "      <td>0.981079</td>\n",
       "      <td>0.141187</td>\n",
       "    </tr>\n",
       "    <tr>\n",
       "      <th>z</th>\n",
       "      <td>18.457176</td>\n",
       "      <td>-1.076891</td>\n",
       "      <td>0.756101</td>\n",
       "      <td>0.199435</td>\n",
       "    </tr>\n",
       "  </tbody>\n",
       "</table>\n",
       "</div>"
      ],
      "text/plain": [
       "        bias    skew_x    skew_y    skew_z\n",
       "x  19.952745 -0.185630  0.286261 -1.302934\n",
       "y   8.583890  0.629384  0.981079  0.141187\n",
       "z  18.457176 -1.076891  0.756101  0.199435"
      ]
     },
     "execution_count": 6,
     "metadata": {},
     "output_type": "execute_result"
    }
   ],
   "source": [
    "coefs['bad']"
   ]
  },
  {
   "cell_type": "code",
   "execution_count": 7,
   "metadata": {},
   "outputs": [
    {
     "name": "stdout",
     "output_type": "stream",
     "text": [
      "good: 53.849777\n",
      "okay: 54.18243\n",
      "bad: 53.895756\n",
      "ref: 54.07416130436051\n"
     ]
    }
   ],
   "source": [
    "print('good:', np.sqrt((data_adj['good']**2).sum(axis=1)).mean())\n",
    "print('okay:', np.sqrt((data_adj['okay']**2).sum(axis=1)).mean())\n",
    "print('bad:', np.sqrt((data_adj['bad']**2).sum(axis=1)).mean())\n",
    "print('ref:', np.sqrt((data['ref']**2).sum()))"
   ]
  },
  {
   "cell_type": "code",
   "execution_count": 8,
   "metadata": {},
   "outputs": [
    {
     "data": {
      "text/plain": [
       "<matplotlib.legend.Legend at 0x7f1bcc1e73d0>"
      ]
     },
     "execution_count": 8,
     "metadata": {},
     "output_type": "execute_result"
    },
    {
     "data": {
      "image/png": "[encoded data removed]",
      "text/plain": [
       "<Figure size 1152x720 with 1 Axes>"
      ]
     },
     "metadata": {
      "needs_background": "light"
     },
     "output_type": "display_data"
    }
   ],
   "source": [
    "plt.figure(figsize=(16,10))\n",
    "sns.distplot(np.sqrt((data_adj['good']**2).sum(axis=1)), label='good')\n",
    "sns.distplot(np.sqrt((data_adj['okay']**2).sum(axis=1)), label='okay')\n",
    "sns.distplot(np.sqrt((data_adj['bad']**2).sum(axis=1)), label='bad')\n",
    "plt.axvline(np.sqrt((data['ref']**2).sum()), color='#000000', label='ref')\n",
    "plt.legend()"
   ]
  }
 ],
 "metadata": {
  "kernelspec": {
   "display_name": "Python 3",
   "language": "python",
   "name": "python3"
  },
  "language_info": {
   "codemirror_mode": {
    "name": "ipython",
    "version": 3
   },
   "file_extension": ".py",
   "mimetype": "text/x-python",
   "name": "python",
   "nbconvert_exporter": "python",
   "pygments_lexer": "ipython3",
   "version": "3.7.4"
  }
 },
 "nbformat": 4,
 "nbformat_minor": 4
}
